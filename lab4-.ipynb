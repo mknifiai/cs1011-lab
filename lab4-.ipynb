def output_range(num1, num2):
    if num2 < num1:
        print("Second integer can't be less than the first.")
        return [0]
    else:
        return list(range(num1, num2 + 1, 5))

# Get input from user
num1, num2 = input().split()
num1 = int(num1)
num2 = int(num2)

# Call the function and print the result
print(output_range(num1, num2))
